{
  "cells": [
    {
      "cell_type": "code",
      "source": [
        "%%pyspark\r\n",
        "df = spark.read.load('abfss://adworks-data@dssdemomtbanklake.dfs.core.windows.net/products.csv', format='csv'\r\n",
        "## If header exists uncomment line below\r\n",
        ", header=True\r\n",
        ")\r\n",
        "display(df.limit(10))"
      ],
      "outputs": [],
      "execution_count": null,
      "metadata": {
        "microsoft": {
          "language": "python"
        },
        "collapsed": false
      }
    },
    {
      "cell_type": "code",
      "source": [
        "%%spark\r\n",
        "val df = spark.read.format(\"csv\").option(\"header\", \"true\").load(\"abfss://adworks-data@dssdemomtbanklake.dfs.core.windows.net/products.csv\")\r\n",
        "display(df.limit(10))"
      ],
      "outputs": [],
      "execution_count": null,
      "metadata": {
        "jupyter": {
          "source_hidden": false,
          "outputs_hidden": false
        },
        "nteract": {
          "transient": {
            "deleting": false
          }
        },
        "microsoft": {
          "language": "scala"
        },
        "collapsed": false
      }
    },
    {
      "cell_type": "code",
      "source": [
        "from pyspark.sql.types import *\r\n",
        "from pyspark.sql.functions import *\r\n",
        "\r\n",
        "productSchema = StructType([\r\n",
        "    StructField(\"ProductID\", IntegerType()),\r\n",
        "    StructField(\"ProductName\", StringType()),\r\n",
        "    StructField(\"Category\", StringType()),\r\n",
        "    StructField(\"ListPrice\", FloatType())\r\n",
        "    ])\r\n",
        "\r\n",
        "df = spark.read.load('abfss://adworks-data@dssdemomtbanklake.dfs.core.windows.net/products.csv',\r\n",
        "    format='csv',\r\n",
        "    schema=productSchema,\r\n",
        "    header=False)\r\n",
        "display(df.limit(10))"
      ],
      "outputs": [],
      "execution_count": null,
      "metadata": {
        "jupyter": {
          "source_hidden": false,
          "outputs_hidden": false
        },
        "nteract": {
          "transient": {
            "deleting": false
          }
        },
        "collapsed": false
      }
    },
    {
      "cell_type": "code",
      "source": [
        "pricelist_df = df.select(\"ProductID\", \"ListPrice\")"
      ],
      "outputs": [],
      "execution_count": null,
      "metadata": {
        "jupyter": {
          "source_hidden": false,
          "outputs_hidden": false
        },
        "nteract": {
          "transient": {
            "deleting": false
          }
        }
      }
    },
    {
      "cell_type": "code",
      "source": [
        "bikes_df = df.select(\"ProductName\", \"ListPrice\").where((df[\"Category\"]==\"Mountain Bikes\") | (df[\"Category\"]==\"Road Bikes\"))\r\n",
        "display(bikes_df)"
      ],
      "outputs": [],
      "execution_count": null,
      "metadata": {
        "jupyter": {
          "source_hidden": false,
          "outputs_hidden": false
        },
        "nteract": {
          "transient": {
            "deleting": false
          }
        },
        "collapsed": false
      }
    },
    {
      "cell_type": "code",
      "source": [
        "counts_df = df.select(\"ProductID\", \"Category\").groupBy(\"Category\").count()\r\n",
        "display(counts_df)"
      ],
      "outputs": [],
      "execution_count": null,
      "metadata": {
        "jupyter": {
          "source_hidden": false,
          "outputs_hidden": false
        },
        "nteract": {
          "transient": {
            "deleting": false
          }
        },
        "collapsed": false
      }
    },
    {
      "cell_type": "markdown",
      "source": [
        "**Create view in Spark catalog**"
      ],
      "metadata": {
        "nteract": {
          "transient": {
            "deleting": false
          }
        }
      }
    },
    {
      "cell_type": "code",
      "source": [
        "df.createOrReplaceTempView(\"products\")"
      ],
      "outputs": [
        {
          "output_type": "display_data",
          "data": {
            "application/vnd.livy.statement-meta+json": {
              "spark_pool": "spool",
              "session_id": "2",
              "statement_id": 10,
              "state": "finished",
              "livy_statement_state": "available",
              "queued_time": "2023-06-09T10:15:26.7730323Z",
              "session_start_time": null,
              "execution_start_time": "2023-06-09T10:15:26.9064121Z",
              "execution_finish_time": "2023-06-09T10:15:27.080949Z",
              "spark_jobs": null,
              "parent_msg_id": "8f66d1b2-6913-4a69-9f38-2d2816fdc2f0"
            },
            "text/plain": "StatementMeta(spool, 2, 10, Finished, Available)"
          },
          "metadata": {}
        }
      ],
      "execution_count": 8,
      "metadata": {
        "jupyter": {
          "source_hidden": false,
          "outputs_hidden": false
        },
        "nteract": {
          "transient": {
            "deleting": false
          }
        }
      }
    },
    {
      "cell_type": "markdown",
      "source": [
        "**Use Spark SQL API to query data**"
      ],
      "metadata": {
        "nteract": {
          "transient": {
            "deleting": false
          }
        }
      }
    },
    {
      "cell_type": "code",
      "source": [
        "bikes_df = spark.sql(\"SELECT ProductID, ProductName, ListPrice \\\r\n",
        "                      FROM products \\\r\n",
        "                      WHERE Category IN ('Mountain Bikes', 'Road Bikes')\")\r\n",
        "display(bikes_df)"
      ],
      "outputs": [],
      "execution_count": null,
      "metadata": {
        "jupyter": {
          "source_hidden": false,
          "outputs_hidden": false
        },
        "nteract": {
          "transient": {
            "deleting": false
          }
        },
        "collapsed": false
      }
    },
    {
      "cell_type": "markdown",
      "source": [
        "**Use SQL Code**"
      ],
      "metadata": {
        "nteract": {
          "transient": {
            "deleting": false
          }
        }
      }
    },
    {
      "cell_type": "code",
      "source": [
        "%%sql\r\n",
        "\r\n",
        "SELECT Category, COUNT(ProductID) AS ProductCount\r\n",
        "FROM products\r\n",
        "GROUP BY Category\r\n",
        "ORDER BY Category"
      ],
      "outputs": [],
      "execution_count": null,
      "metadata": {
        "jupyter": {
          "source_hidden": false,
          "outputs_hidden": false
        },
        "nteract": {
          "transient": {
            "deleting": false
          }
        },
        "microsoft": {
          "language": "sparksql"
        },
        "collapsed": false
      }
    },
    {
      "cell_type": "markdown",
      "source": [
        "**Use graphics package in code**"
      ],
      "metadata": {
        "nteract": {
          "transient": {
            "deleting": false
          }
        }
      }
    },
    {
      "cell_type": "code",
      "source": [
        "from matplotlib import pyplot as plt\r\n",
        "\r\n",
        "# Get the data as a Pandas dataframe\r\n",
        "data = spark.sql(\"SELECT Category, COUNT(ProductID) AS ProductCount \\\r\n",
        "                  FROM products \\\r\n",
        "                  GROUP BY Category \\\r\n",
        "                  ORDER BY Category\").toPandas()\r\n",
        "\r\n",
        "# Clear the plot area\r\n",
        "plt.clf()\r\n",
        "\r\n",
        "# Create a Figure\r\n",
        "fig = plt.figure(figsize=(12,8))\r\n",
        "\r\n",
        "# Create a bar plot of product counts by category\r\n",
        "plt.bar(x=data['Category'], height=data['ProductCount'], color='orange')\r\n",
        "\r\n",
        "# Customize the chart\r\n",
        "plt.title('Product Counts by Category')\r\n",
        "plt.xlabel('Category')\r\n",
        "plt.ylabel('Products')\r\n",
        "plt.grid(color='#95a5a6', linestyle='--', linewidth=2, axis='y', alpha=0.7)\r\n",
        "plt.xticks(rotation=70)\r\n",
        "\r\n",
        "# Show the plot area\r\n",
        "plt.show()"
      ],
      "outputs": [],
      "execution_count": null,
      "metadata": {
        "jupyter": {
          "source_hidden": false,
          "outputs_hidden": false
        },
        "nteract": {
          "transient": {
            "deleting": false
          }
        }
      }
    }
  ],
  "metadata": {
    "kernelspec": {
      "name": "synapse_pyspark",
      "language": "Python",
      "display_name": "Synapse PySpark"
    },
    "language_info": {
      "name": "python"
    },
    "kernel_info": {
      "name": "synapse_pyspark"
    },
    "description": null,
    "save_output": true,
    "synapse_widget": {
      "version": "0.1",
      "state": {}
    }
  },
  "nbformat": 4,
  "nbformat_minor": 2
}