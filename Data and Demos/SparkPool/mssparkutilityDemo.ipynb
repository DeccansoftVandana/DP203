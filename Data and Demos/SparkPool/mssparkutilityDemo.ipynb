{
  "cells": [
    {
      "cell_type": "markdown",
      "source": [
        "# - **mssparkutils.fs provides utilities for working with various file systems,**\r\n"
      ],
      "metadata": {
        "nteract": {
          "transient": {
            "deleting": false
          }
        }
      }
    },
    {
      "cell_type": "code",
      "source": [
        "from notebookutils import mssparkutils\r\n",
        "mssparkutils.fs.help()"
      ],
      "outputs": [
        {
          "output_type": "display_data",
          "data": {
            "application/vnd.livy.statement-meta+json": {
              "spark_pool": "spool1",
              "session_id": "2",
              "statement_id": 2,
              "state": "finished",
              "livy_statement_state": "available",
              "queued_time": "2022-08-16T05:05:56.7798678Z",
              "session_start_time": "2022-08-16T05:05:56.812851Z",
              "execution_start_time": "2022-08-16T05:11:01.4545197Z",
              "execution_finish_time": "2022-08-16T05:11:01.6702053Z",
              "spark_jobs": null
            },
            "text/plain": "StatementMeta(spool1, 2, 2, Finished, Available)"
          },
          "metadata": {}
        },
        {
          "output_type": "display_data",
          "data": {
            "text/plain": "<IPython.core.display.HTML object>",
            "text/html": "\n<b> mssparkutils.fs </b> provides utilities for working with various FileSystems. <br/><br/>\nBelow is overview about the available methods: <br/><br/>\n<b> cp(from: String, to: String, recurse: Boolean = false): Boolean </b>\n-> Copies a file or directory, possibly across FileSystems <br/>\n<b> mv(from: String, to: String, recurse: Boolean = false,\noverwrite: Boolean = false): Boolean </b>\n-> Moves a file or directory, possibly across FileSystems <br/>\n<b> ls(dir: String): Array </b>\n-> Lists the contents of a directory <br/>\n<b> mkdirs(dir: String): Boolean </b>\n-> Creates the given directory if it does not exist, also creating any\nnecessary parent directories <br/>\n<b> put(file: String, contents: String, overwrite: Boolean = false): Boolean </b>\n-> Writes the given String out to a file, encoded in UTF-8 <br/>\n<b> head(file: String, maxBytes: int = 1024 * 100): String </b>\n-> Returns up to the first 'maxBytes' bytes of the given file\nas a String encoded in UTF-8 <br/>\n<b> append(file: String, content: String, createFileIfNotExists: Boolean): Boolean </b>\n-> Append the content to a file <br/>\n<b> rm(dir: String, recurse: Boolean = false): Boolean </b>\n-> Removes a file or directory <br/><br/>\nUse <b> mssparkutils.fs.help(\"methodName\") </b> for more info about a method. <br/><br/><a target=\"_blank\" href=\"https://go.microsoft.com/fwlink/?linkid=2152237\">Learn more</a>"
          },
          "metadata": {}
        }
      ],
      "execution_count": 1,
      "metadata": {
        "jupyter": {
          "source_hidden": false,
          "outputs_hidden": false
        },
        "nteract": {
          "transient": {
            "deleting": false
          }
        }
      }
    },
    {
      "cell_type": "code",
      "source": [
        "mssparkutils.fs.mkdirs('/test/2022')"
      ],
      "outputs": [
        {
          "output_type": "display_data",
          "data": {
            "application/vnd.livy.statement-meta+json": {
              "spark_pool": "spool1",
              "session_id": "2",
              "statement_id": 5,
              "state": "finished",
              "livy_statement_state": "available",
              "queued_time": "2022-08-16T05:14:46.4945979Z",
              "session_start_time": null,
              "execution_start_time": "2022-08-16T05:14:46.6715701Z",
              "execution_finish_time": "2022-08-16T05:14:47.2154775Z",
              "spark_jobs": null
            },
            "text/plain": "StatementMeta(spool1, 2, 5, Finished, Available)"
          },
          "metadata": {}
        },
        {
          "output_type": "execute_result",
          "execution_count": 16,
          "data": {
            "text/plain": "True"
          },
          "metadata": {}
        }
      ],
      "execution_count": 4,
      "metadata": {
        "jupyter": {
          "source_hidden": false,
          "outputs_hidden": false
        },
        "nteract": {
          "transient": {
            "deleting": false
          }
        }
      }
    },
    {
      "cell_type": "code",
      "source": [
        "mssparkutils.fs.ls('/')"
      ],
      "outputs": [
        {
          "output_type": "display_data",
          "data": {
            "application/vnd.livy.statement-meta+json": {
              "spark_pool": "spool1",
              "session_id": "2",
              "statement_id": 7,
              "state": "finished",
              "livy_statement_state": "available",
              "queued_time": "2022-08-16T05:21:27.9554285Z",
              "session_start_time": null,
              "execution_start_time": "2022-08-16T05:21:28.1136302Z",
              "execution_finish_time": "2022-08-16T05:21:28.627344Z",
              "spark_jobs": null
            },
            "text/plain": "StatementMeta(spool1, 2, 7, Finished, Available)"
          },
          "metadata": {}
        },
        {
          "output_type": "execute_result",
          "execution_count": 22,
          "data": {
            "text/plain": "[FileInfo(path=abfss://synapse-files@dssvandatalake.dfs.core.windows.net/hyperspace, name=hyperspace, size=0),\n FileInfo(path=abfss://synapse-files@dssvandatalake.dfs.core.windows.net/products.csv, name=products.csv, size=14667),\n FileInfo(path=abfss://synapse-files@dssvandatalake.dfs.core.windows.net/sampledata, name=sampledata, size=0),\n FileInfo(path=abfss://synapse-files@dssvandatalake.dfs.core.windows.net/synapse, name=synapse, size=0),\n FileInfo(path=abfss://synapse-files@dssvandatalake.dfs.core.windows.net/test, name=test, size=0)]"
          },
          "metadata": {}
        }
      ],
      "execution_count": 6,
      "metadata": {
        "jupyter": {
          "source_hidden": false,
          "outputs_hidden": false
        },
        "nteract": {
          "transient": {
            "deleting": false
          }
        }
      }
    },
    {
      "cell_type": "code",
      "source": [
        "files = mssparkutils.fs.ls('/sampledata')\r\n",
        "for file in files:\r\n",
        "    print(file.name, file.isDir, file.isFile, file.path, file.size)"
      ],
      "outputs": [
        {
          "output_type": "display_data",
          "data": {
            "application/vnd.livy.statement-meta+json": {
              "spark_pool": "spool1",
              "session_id": "2",
              "statement_id": 8,
              "state": "finished",
              "livy_statement_state": "available",
              "queued_time": "2022-08-16T05:21:47.2260424Z",
              "session_start_time": null,
              "execution_start_time": "2022-08-16T05:21:47.9941377Z",
              "execution_finish_time": "2022-08-16T05:21:48.5414833Z",
              "spark_jobs": null
            },
            "text/plain": "StatementMeta(spool1, 2, 8, Finished, Available)"
          },
          "metadata": {}
        },
        {
          "output_type": "stream",
          "name": "stdout",
          "text": [
            "Customer1.txt False True abfss://synapse-files@dssvandatalake.dfs.core.windows.net/sampledata/Customer1.txt 63\nEmployee.txt False True abfss://synapse-files@dssvandatalake.dfs.core.windows.net/sampledata/Employee.txt 63\nEmployee1.txt False True abfss://synapse-files@dssvandatalake.dfs.core.windows.net/sampledata/Employee1.txt 63\nProducts.csv False True abfss://synapse-files@dssvandatalake.dfs.core.windows.net/sampledata/Products.csv 1792\nStudentDetails.txt False True abfss://synapse-files@dssvandatalake.dfs.core.windows.net/sampledata/StudentDetails.txt 4887\nlaptops_01.csv False True abfss://synapse-files@dssvandatalake.dfs.core.windows.net/sampledata/laptops_01.csv 760\n"
          ]
        }
      ],
      "execution_count": 7,
      "metadata": {
        "jupyter": {
          "source_hidden": false,
          "outputs_hidden": false
        },
        "nteract": {
          "transient": {
            "deleting": false
          }
        }
      }
    },
    {
      "cell_type": "code",
      "source": [
        "mssparkutils.fs.cp('/sampledata/Employee.txt', '/test/2022')"
      ],
      "outputs": [
        {
          "output_type": "display_data",
          "data": {
            "application/vnd.livy.statement-meta+json": {
              "spark_pool": "spool1",
              "session_id": "2",
              "statement_id": 9,
              "state": "finished",
              "livy_statement_state": "available",
              "queued_time": "2022-08-16T05:23:46.9196498Z",
              "session_start_time": null,
              "execution_start_time": "2022-08-16T05:23:47.0440262Z",
              "execution_finish_time": "2022-08-16T05:23:48.8901017Z",
              "spark_jobs": null
            },
            "text/plain": "StatementMeta(spool1, 2, 9, Finished, Available)"
          },
          "metadata": {}
        },
        {
          "output_type": "execute_result",
          "execution_count": 28,
          "data": {
            "text/plain": "True"
          },
          "metadata": {}
        }
      ],
      "execution_count": 8,
      "metadata": {
        "jupyter": {
          "source_hidden": false,
          "outputs_hidden": false
        },
        "nteract": {
          "transient": {
            "deleting": false
          }
        }
      }
    },
    {
      "cell_type": "code",
      "source": [
        "mssparkutils.fs.cp('/sampledata/', '/test/2022', True)# Set the third parameter as True to copy all files and directories recursively"
      ],
      "outputs": [
        {
          "output_type": "display_data",
          "data": {
            "application/vnd.livy.statement-meta+json": {
              "spark_pool": "spool1",
              "session_id": "2",
              "statement_id": 10,
              "state": "finished",
              "livy_statement_state": "available",
              "queued_time": "2022-08-16T05:25:59.4512047Z",
              "session_start_time": null,
              "execution_start_time": "2022-08-16T05:25:59.5792943Z",
              "execution_finish_time": "2022-08-16T05:26:03.6624137Z",
              "spark_jobs": null
            },
            "text/plain": "StatementMeta(spool1, 2, 10, Finished, Available)"
          },
          "metadata": {}
        },
        {
          "output_type": "execute_result",
          "execution_count": 31,
          "data": {
            "text/plain": "True"
          },
          "metadata": {}
        }
      ],
      "execution_count": 9,
      "metadata": {
        "jupyter": {
          "source_hidden": false,
          "outputs_hidden": false
        },
        "nteract": {
          "transient": {
            "deleting": false
          }
        }
      }
    },
    {
      "cell_type": "code",
      "source": [
        "mssparkutils.fs.rm('/test/2022/sampledata', True) # Set the last parameter as True to remove all files and directories recursively"
      ],
      "outputs": [
        {
          "output_type": "display_data",
          "data": {
            "application/vnd.livy.statement-meta+json": {
              "spark_pool": "spool1",
              "session_id": "2",
              "statement_id": 11,
              "state": "finished",
              "livy_statement_state": "available",
              "queued_time": "2022-08-16T05:27:45.0591437Z",
              "session_start_time": null,
              "execution_start_time": "2022-08-16T05:27:45.2048016Z",
              "execution_finish_time": "2022-08-16T05:27:46.2909538Z",
              "spark_jobs": null
            },
            "text/plain": "StatementMeta(spool1, 2, 11, Finished, Available)"
          },
          "metadata": {}
        },
        {
          "output_type": "execute_result",
          "execution_count": 34,
          "data": {
            "text/plain": "True"
          },
          "metadata": {}
        }
      ],
      "execution_count": 10,
      "metadata": {
        "jupyter": {
          "source_hidden": false,
          "outputs_hidden": false
        },
        "nteract": {
          "transient": {
            "deleting": false
          }
        }
      }
    },
    {
      "cell_type": "code",
      "source": [
        "mssparkutils.fs.mv('/sampledata', '/test/2022', True) # Set the last parameter as True to firstly create the parent directory if it does not exist"
      ],
      "outputs": [
        {
          "output_type": "display_data",
          "data": {
            "application/vnd.livy.statement-meta+json": {
              "spark_pool": "spool1",
              "session_id": "2",
              "statement_id": 12,
              "state": "finished",
              "livy_statement_state": "available",
              "queued_time": "2022-08-16T05:28:46.8050544Z",
              "session_start_time": null,
              "execution_start_time": "2022-08-16T05:28:46.9267605Z",
              "execution_finish_time": "2022-08-16T05:28:48.0227913Z",
              "spark_jobs": null
            },
            "text/plain": "StatementMeta(spool1, 2, 12, Finished, Available)"
          },
          "metadata": {}
        },
        {
          "output_type": "execute_result",
          "execution_count": 37,
          "data": {
            "text/plain": "True"
          },
          "metadata": {}
        }
      ],
      "execution_count": 11,
      "metadata": {
        "jupyter": {
          "source_hidden": false,
          "outputs_hidden": false
        },
        "nteract": {
          "transient": {
            "deleting": false
          }
        }
      }
    },
    {
      "cell_type": "code",
      "source": [
        "mssparkutils.fs.ls('/test/2022')"
      ],
      "outputs": [
        {
          "output_type": "display_data",
          "data": {
            "application/vnd.livy.statement-meta+json": {
              "spark_pool": "spool1",
              "session_id": "2",
              "statement_id": 14,
              "state": "finished",
              "livy_statement_state": "available",
              "queued_time": "2022-08-16T05:32:05.5315794Z",
              "session_start_time": null,
              "execution_start_time": "2022-08-16T05:32:05.6373309Z",
              "execution_finish_time": "2022-08-16T05:32:06.1681132Z",
              "spark_jobs": null
            },
            "text/plain": "StatementMeta(spool1, 2, 14, Finished, Available)"
          },
          "metadata": {}
        },
        {
          "output_type": "execute_result",
          "execution_count": 43,
          "data": {
            "text/plain": "[FileInfo(path=abfss://synapse-files@dssvandatalake.dfs.core.windows.net/test/2022/Employee.txt, name=Employee.txt, size=63),\n FileInfo(path=abfss://synapse-files@dssvandatalake.dfs.core.windows.net/test/2022/sampledata, name=sampledata, size=0)]"
          },
          "metadata": {}
        }
      ],
      "execution_count": 13,
      "metadata": {
        "jupyter": {
          "source_hidden": false,
          "outputs_hidden": false
        },
        "nteract": {
          "transient": {
            "deleting": false
          }
        }
      }
    },
    {
      "cell_type": "code",
      "source": [
        "#mssparkutils.fs.head('file path', maxBytes to read)\r\n",
        "mssparkutils.fs.head('/test/2022/Employee.txt', 200)"
      ],
      "outputs": [
        {
          "output_type": "display_data",
          "data": {
            "application/vnd.livy.statement-meta+json": {
              "spark_pool": "spool1",
              "session_id": "2",
              "statement_id": 20,
              "state": "finished",
              "livy_statement_state": "available",
              "queued_time": "2022-08-16T05:41:06.8290125Z",
              "session_start_time": null,
              "execution_start_time": "2022-08-16T05:41:07.007028Z",
              "execution_finish_time": "2022-08-16T05:41:07.5791139Z",
              "spark_jobs": null
            },
            "text/plain": "StatementMeta(spool1, 2, 20, Finished, Available)"
          },
          "metadata": {}
        },
        {
          "output_type": "execute_result",
          "execution_count": 61,
          "data": {
            "text/plain": "'EmpId,EmpName,Salary\\r\\n10,John,3000\\r\\n11,Allen,5000\\r\\n12,Mark,3500'"
          },
          "metadata": {}
        }
      ],
      "execution_count": 19,
      "metadata": {
        "jupyter": {
          "source_hidden": false,
          "outputs_hidden": false
        },
        "nteract": {
          "transient": {
            "deleting": false
          }
        }
      }
    },
    {
      "cell_type": "code",
      "source": [
        "\r\n",
        "files = mssparkutils.fs.ls('/test/2022')\r\n",
        "#print(files)\r\n",
        "print(dir(files[0]))"
      ],
      "outputs": [
        {
          "output_type": "display_data",
          "data": {
            "application/vnd.livy.statement-meta+json": {
              "spark_pool": "spool1",
              "session_id": "2",
              "statement_id": 18,
              "state": "finished",
              "livy_statement_state": "available",
              "queued_time": "2022-08-16T05:38:23.3489216Z",
              "session_start_time": null,
              "execution_start_time": "2022-08-16T05:38:23.4909642Z",
              "execution_finish_time": "2022-08-16T05:38:23.9991072Z",
              "spark_jobs": null
            },
            "text/plain": "StatementMeta(spool1, 2, 18, Finished, Available)"
          },
          "metadata": {}
        },
        {
          "output_type": "stream",
          "name": "stdout",
          "text": [
            "['_FileInfo__j_file_info', '__class__', '__delattr__', '__dict__', '__dir__', '__doc__', '__eq__', '__format__', '__ge__', '__getattribute__', '__gt__', '__hash__', '__init__', '__init_subclass__', '__le__', '__lt__', '__module__', '__ne__', '__new__', '__reduce__', '__reduce_ex__', '__repr__', '__setattr__', '__sizeof__', '__str__', '__subclasshook__', '__weakref__', 'create_from_jschema', 'isDir', 'isFile', 'modifyTime', 'name', 'path', 'size']\n"
          ]
        }
      ],
      "execution_count": 17,
      "metadata": {
        "jupyter": {
          "source_hidden": false,
          "outputs_hidden": false
        },
        "nteract": {
          "transient": {
            "deleting": false
          }
        }
      }
    },
    {
      "cell_type": "code",
      "source": [
        "# mssparkutils.fs.put(\"file path\", \"content to write\", True) # Set the last parameter as True to overwrite the file if it existed already\r\n",
        "mssparkutils.fs.put(\"/test/2022/employeetest.csv\", \"1,vandana,3000\", True)"
      ],
      "outputs": [
        {
          "output_type": "display_data",
          "data": {
            "application/vnd.livy.statement-meta+json": {
              "spark_pool": "spool1",
              "session_id": "2",
              "statement_id": 22,
              "state": "finished",
              "livy_statement_state": "available",
              "queued_time": "2022-08-16T05:43:54.2446185Z",
              "session_start_time": null,
              "execution_start_time": "2022-08-16T05:43:54.3463094Z",
              "execution_finish_time": "2022-08-16T05:43:55.4536305Z",
              "spark_jobs": null
            },
            "text/plain": "StatementMeta(spool1, 2, 22, Finished, Available)"
          },
          "metadata": {}
        },
        {
          "output_type": "execute_result",
          "execution_count": 67,
          "data": {
            "text/plain": "True"
          },
          "metadata": {}
        }
      ],
      "execution_count": 21,
      "metadata": {
        "jupyter": {
          "source_hidden": false,
          "outputs_hidden": false
        },
        "nteract": {
          "transient": {
            "deleting": false
          }
        }
      }
    },
    {
      "cell_type": "code",
      "source": [
        "#mssparkutils.fs.append(\"file path\", \"content to append\", True) # Set the last parameter as True to create the file if it does not exist\r\n",
        "mssparkutils.fs.append(\"/test/2022/employeetest.csv\", \"\\n2,Raj,4000\")"
      ],
      "outputs": [
        {
          "output_type": "display_data",
          "data": {
            "application/vnd.livy.statement-meta+json": {
              "spark_pool": "spool1",
              "session_id": "2",
              "statement_id": 25,
              "state": "finished",
              "livy_statement_state": "available",
              "queued_time": "2022-08-16T05:46:31.2534534Z",
              "session_start_time": null,
              "execution_start_time": "2022-08-16T05:46:31.3546871Z",
              "execution_finish_time": "2022-08-16T05:46:31.9516357Z",
              "spark_jobs": null
            },
            "text/plain": "StatementMeta(spool1, 2, 25, Finished, Available)"
          },
          "metadata": {}
        },
        {
          "output_type": "execute_result",
          "execution_count": 76,
          "data": {
            "text/plain": "True"
          },
          "metadata": {}
        }
      ],
      "execution_count": 24,
      "metadata": {
        "jupyter": {
          "source_hidden": false,
          "outputs_hidden": false
        },
        "nteract": {
          "transient": {
            "deleting": false
          }
        }
      }
    },
    {
      "cell_type": "code",
      "source": [
        "#mssparkutils.fs.rm('file path', True) # Set the last parameter as True to remove all files and directories recursively\r\n",
        "mssparkutils.fs.rm('/test', True)"
      ],
      "outputs": [
        {
          "output_type": "display_data",
          "data": {
            "application/vnd.livy.statement-meta+json": {
              "spark_pool": "spool1",
              "session_id": "2",
              "statement_id": 27,
              "state": "finished",
              "livy_statement_state": "available",
              "queued_time": "2022-08-16T05:48:34.0230023Z",
              "session_start_time": null,
              "execution_start_time": "2022-08-16T05:48:34.1544968Z",
              "execution_finish_time": "2022-08-16T05:48:35.2635745Z",
              "spark_jobs": null
            },
            "text/plain": "StatementMeta(spool1, 2, 27, Finished, Available)"
          },
          "metadata": {}
        },
        {
          "output_type": "execute_result",
          "execution_count": 82,
          "data": {
            "text/plain": "True"
          },
          "metadata": {}
        }
      ],
      "execution_count": 26,
      "metadata": {
        "jupyter": {
          "source_hidden": false,
          "outputs_hidden": false
        },
        "nteract": {
          "transient": {
            "deleting": false
          }
        }
      }
    },
    {
      "cell_type": "markdown",
      "source": [
        "## - **Mount Storage Using linked service**"
      ],
      "metadata": {
        "nteract": {
          "transient": {
            "deleting": false
          }
        }
      }
    },
    {
      "cell_type": "code",
      "source": [
        "mssparkutils.fs.mount( \r\n",
        "    \"abfss://data-out@dssdemodatalake3.dfs.core.windows.net\", \r\n",
        "    \"/mnt\", \r\n",
        "    {\"linkedService\":\"ConnLake\"} \r\n",
        ")"
      ],
      "outputs": [
        {
          "output_type": "display_data",
          "data": {
            "application/vnd.livy.statement-meta+json": {
              "spark_pool": "spool1",
              "session_id": "2",
              "statement_id": 35,
              "state": "finished",
              "livy_statement_state": "available",
              "queued_time": "2022-08-16T06:27:58.0302488Z",
              "session_start_time": null,
              "execution_start_time": "2022-08-16T06:27:58.1426464Z",
              "execution_finish_time": "2022-08-16T06:28:19.025302Z",
              "spark_jobs": null
            },
            "text/plain": "StatementMeta(spool1, 2, 35, Finished, Available)"
          },
          "metadata": {}
        },
        {
          "output_type": "execute_result",
          "execution_count": 106,
          "data": {
            "text/plain": "True"
          },
          "metadata": {}
        }
      ],
      "execution_count": 34,
      "metadata": {
        "jupyter": {
          "source_hidden": false,
          "outputs_hidden": false
        },
        "nteract": {
          "transient": {
            "deleting": false
          }
        }
      }
    },
    {
      "cell_type": "code",
      "source": [
        "jid=mssparkutils.env.getJobId()\r\n",
        "print(jid)"
      ],
      "outputs": [
        {
          "output_type": "display_data",
          "data": {
            "application/vnd.livy.statement-meta+json": {
              "spark_pool": "spool1",
              "session_id": "2",
              "statement_id": 40,
              "state": "finished",
              "livy_statement_state": "available",
              "queued_time": "2022-08-16T06:34:30.7269738Z",
              "session_start_time": null,
              "execution_start_time": "2022-08-16T06:34:30.8650958Z",
              "execution_finish_time": "2022-08-16T06:34:31.0611377Z",
              "spark_jobs": null
            },
            "text/plain": "StatementMeta(spool1, 2, 40, Finished, Available)"
          },
          "metadata": {}
        },
        {
          "output_type": "stream",
          "name": "stdout",
          "text": [
            "2\n"
          ]
        }
      ],
      "execution_count": 39,
      "metadata": {
        "jupyter": {
          "source_hidden": false,
          "outputs_hidden": false
        },
        "nteract": {
          "transient": {
            "deleting": false
          }
        }
      }
    },
    {
      "cell_type": "code",
      "source": [
        "mssparkutils.fs.ls(\"synfs:/2/mnt\")"
      ],
      "outputs": [
        {
          "output_type": "display_data",
          "data": {
            "application/vnd.livy.statement-meta+json": {
              "spark_pool": "spool1",
              "session_id": "2",
              "statement_id": 42,
              "state": "finished",
              "livy_statement_state": "available",
              "queued_time": "2022-08-16T06:35:35.18887Z",
              "session_start_time": null,
              "execution_start_time": "2022-08-16T06:35:35.2926357Z",
              "execution_finish_time": "2022-08-16T06:35:36.441371Z",
              "spark_jobs": null
            },
            "text/plain": "StatementMeta(spool1, 2, 42, Finished, Available)"
          },
          "metadata": {}
        },
        {
          "output_type": "execute_result",
          "execution_count": 127,
          "data": {
            "text/plain": "[FileInfo(path=synfs:/2/mnt/Department.csv, name=Department.csv, size=112),\n FileInfo(path=synfs:/2/mnt/Products.csv, name=Products.csv, size=14667)]"
          },
          "metadata": {}
        }
      ],
      "execution_count": 41,
      "metadata": {
        "jupyter": {
          "source_hidden": false,
          "outputs_hidden": false
        },
        "nteract": {
          "transient": {
            "deleting": false
          }
        }
      }
    },
    {
      "cell_type": "markdown",
      "source": [
        "## **Mount storage using Access Key**"
      ],
      "metadata": {
        "nteract": {
          "transient": {
            "deleting": false
          }
        }
      }
    },
    {
      "cell_type": "code",
      "source": [
        "from notebookutils import mssparkutils  \r\n",
        "#Use accountkey Or sasToken as Key\r\n",
        "\r\n",
        "#accountKey = mssparkutils.credentials.getSecret(\"MydssKeyVault\",\"Lake3secret\")  \r\n",
        "mssparkutils.fs.mount(\r\n",
        "    \"abfss://data-out@dssdemodatalake3.dfs.core.windows.net\",\r\n",
        "    \"/test\",\r\n",
        "    {\"accountKey\":\"xd7jytgXLQXYHArX1N08fN1yU+WPNGzTPXDjzQi4fxSriUawOtHOjw1lak/r8HLFayFj130Qy8sL+AStmoMKUg==\"}\r\n",
        ")"
      ],
      "outputs": [
        {
          "output_type": "display_data",
          "data": {
            "application/vnd.livy.statement-meta+json": {
              "spark_pool": "spool1",
              "session_id": "2",
              "statement_id": 70,
              "state": "finished",
              "livy_statement_state": "available",
              "queued_time": "2022-08-16T07:53:13.7688851Z",
              "session_start_time": null,
              "execution_start_time": "2022-08-16T07:53:13.8976164Z",
              "execution_finish_time": "2022-08-16T07:53:35.0857093Z",
              "spark_jobs": null
            },
            "text/plain": "StatementMeta(spool1, 2, 70, Finished, Available)"
          },
          "metadata": {}
        },
        {
          "output_type": "execute_result",
          "execution_count": 211,
          "data": {
            "text/plain": "True"
          },
          "metadata": {}
        }
      ],
      "execution_count": 69,
      "metadata": {
        "jupyter": {
          "source_hidden": false,
          "outputs_hidden": false
        },
        "nteract": {
          "transient": {
            "deleting": false
          }
        }
      }
    },
    {
      "cell_type": "code",
      "source": [
        "mssparkutils.fs.ls(\"synfs:/2/test\")"
      ],
      "outputs": [
        {
          "output_type": "display_data",
          "data": {
            "application/vnd.livy.statement-meta+json": {
              "spark_pool": "spool1",
              "session_id": "2",
              "statement_id": 71,
              "state": "finished",
              "livy_statement_state": "available",
              "queued_time": "2022-08-16T07:53:43.3406618Z",
              "session_start_time": null,
              "execution_start_time": "2022-08-16T07:53:43.4821704Z",
              "execution_finish_time": "2022-08-16T07:53:44.0218701Z",
              "spark_jobs": null
            },
            "text/plain": "StatementMeta(spool1, 2, 71, Finished, Available)"
          },
          "metadata": {}
        },
        {
          "output_type": "execute_result",
          "execution_count": 214,
          "data": {
            "text/plain": "[FileInfo(path=synfs:/2/test/Department.csv, name=Department.csv, size=112),\n FileInfo(path=synfs:/2/test/Products.csv, name=Products.csv, size=14667)]"
          },
          "metadata": {}
        }
      ],
      "execution_count": 70,
      "metadata": {
        "jupyter": {
          "source_hidden": false,
          "outputs_hidden": false
        },
        "nteract": {
          "transient": {
            "deleting": false
          }
        }
      }
    },
    {
      "cell_type": "code",
      "source": [
        "mssparkutils.fs.unmount(\"/test\")"
      ],
      "outputs": [
        {
          "output_type": "display_data",
          "data": {
            "application/vnd.livy.statement-meta+json": {
              "spark_pool": "spool1",
              "session_id": "2",
              "statement_id": 72,
              "state": "finished",
              "livy_statement_state": "available",
              "queued_time": "2022-08-16T07:53:46.9647999Z",
              "session_start_time": null,
              "execution_start_time": "2022-08-16T07:53:47.1245148Z",
              "execution_finish_time": "2022-08-16T07:53:57.795095Z",
              "spark_jobs": null
            },
            "text/plain": "StatementMeta(spool1, 2, 72, Finished, Available)"
          },
          "metadata": {}
        },
        {
          "output_type": "execute_result",
          "execution_count": 217,
          "data": {
            "text/plain": "True"
          },
          "metadata": {}
        }
      ],
      "execution_count": 71,
      "metadata": {
        "jupyter": {
          "source_hidden": false,
          "outputs_hidden": false
        },
        "nteract": {
          "transient": {
            "deleting": false
          }
        }
      }
    },
    {
      "cell_type": "markdown",
      "source": [
        "## **Mount Storage using secret from Key Vault**"
      ],
      "metadata": {
        "nteract": {
          "transient": {
            "deleting": false
          }
        }
      }
    },
    {
      "cell_type": "code",
      "source": [
        "from notebookutils import mssparkutils  \r\n",
        "#Use accountkey Or sasToken as Key\r\n",
        "\r\n",
        "accountKey = mssparkutils.credentials.getSecret(\"MydssKeyVault\",\"Lakesecret\")  \r\n",
        "mssparkutils.fs.mount(\r\n",
        "    \"abfss://data-out@dssdemodatalake3.dfs.core.windows.net\",\r\n",
        "    \"/test\",\r\n",
        "    {\"accountKey\":accountKey}\r\n",
        ")"
      ],
      "outputs": [
        {
          "output_type": "display_data",
          "data": {
            "application/vnd.livy.statement-meta+json": {
              "spark_pool": "spool1",
              "session_id": "2",
              "statement_id": 73,
              "state": "finished",
              "livy_statement_state": "available",
              "queued_time": "2022-08-16T07:54:14.1338602Z",
              "session_start_time": null,
              "execution_start_time": "2022-08-16T07:54:14.2812098Z",
              "execution_finish_time": "2022-08-16T07:54:35.1493433Z",
              "spark_jobs": null
            },
            "text/plain": "StatementMeta(spool1, 2, 73, Finished, Available)"
          },
          "metadata": {}
        },
        {
          "output_type": "execute_result",
          "execution_count": 220,
          "data": {
            "text/plain": "True"
          },
          "metadata": {}
        }
      ],
      "execution_count": 72,
      "metadata": {
        "jupyter": {
          "source_hidden": false,
          "outputs_hidden": false
        },
        "nteract": {
          "transient": {
            "deleting": false
          }
        }
      }
    },
    {
      "cell_type": "code",
      "source": [
        "mssparkutils.fs.ls(\"synfs:/2/test\")"
      ],
      "outputs": [
        {
          "output_type": "display_data",
          "data": {
            "application/vnd.livy.statement-meta+json": {
              "spark_pool": "spool1",
              "session_id": "2",
              "statement_id": 74,
              "state": "finished",
              "livy_statement_state": "available",
              "queued_time": "2022-08-16T07:54:40.4801568Z",
              "session_start_time": null,
              "execution_start_time": "2022-08-16T07:54:40.560457Z",
              "execution_finish_time": "2022-08-16T07:54:41.0823985Z",
              "spark_jobs": null
            },
            "text/plain": "StatementMeta(spool1, 2, 74, Finished, Available)"
          },
          "metadata": {}
        },
        {
          "output_type": "execute_result",
          "execution_count": 223,
          "data": {
            "text/plain": "[FileInfo(path=synfs:/2/test/Department.csv, name=Department.csv, size=112),\n FileInfo(path=synfs:/2/test/Products.csv, name=Products.csv, size=14667)]"
          },
          "metadata": {}
        }
      ],
      "execution_count": 73,
      "metadata": {
        "jupyter": {
          "source_hidden": false,
          "outputs_hidden": false
        },
        "nteract": {
          "transient": {
            "deleting": false
          }
        }
      }
    },
    {
      "cell_type": "code",
      "source": [
        "mssparkutils.fs.unmount(\"/test\")"
      ],
      "outputs": [
        {
          "output_type": "display_data",
          "data": {
            "application/vnd.livy.statement-meta+json": {
              "spark_pool": "spool1",
              "session_id": "2",
              "statement_id": 75,
              "state": "finished",
              "livy_statement_state": "available",
              "queued_time": "2022-08-16T07:54:43.4715975Z",
              "session_start_time": null,
              "execution_start_time": "2022-08-16T07:54:43.5670591Z",
              "execution_finish_time": "2022-08-16T07:55:04.5799982Z",
              "spark_jobs": null
            },
            "text/plain": "StatementMeta(spool1, 2, 75, Finished, Available)"
          },
          "metadata": {}
        },
        {
          "output_type": "execute_result",
          "execution_count": 226,
          "data": {
            "text/plain": "True"
          },
          "metadata": {}
        }
      ],
      "execution_count": 74,
      "metadata": {
        "jupyter": {
          "source_hidden": false,
          "outputs_hidden": false
        },
        "nteract": {
          "transient": {
            "deleting": false
          }
        }
      }
    }
  ],
  "metadata": {
    "language_info": {
      "name": "python"
    },
    "kernelspec": {
      "name": "synapse_pyspark",
      "language": "Python",
      "display_name": "Synapse PySpark"
    },
    "kernel_info": {
      "name": "synapse_pyspark"
    },
    "save_output": true,
    "synapse_widget": {
      "version": "0.1",
      "state": {}
    }
  },
  "nbformat": 4,
  "nbformat_minor": 2
}