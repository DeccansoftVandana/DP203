{
  "cells": [
    {
      "cell_type": "code",
      "source": [
        "%%pyspark\r\n",
        "df = spark.read.load('abfss://adworks-data@dssdemomtbanklake.dfs.core.windows.net/2019.csv', format='csv'\r\n",
        "## If header exists uncomment line below\r\n",
        ", header=True\r\n",
        ")\r\n",
        "display(df.limit(10))"
      ],
      "outputs": [],
      "execution_count": null,
      "metadata": {
        "jupyter": {
          "source_hidden": false,
          "outputs_hidden": false
        },
        "nteract": {
          "transient": {
            "deleting": false
          }
        },
        "microsoft": {
          "language": "python"
        },
        "collapsed": false
      }
    },
    {
      "cell_type": "code",
      "source": [
        "%%spark\r\n",
        "val df = spark.read.format(\"csv\").option(\"header\", \"true\").load(\"abfss://adworks-data@dssdemomtbanklake.dfs.core.windows.net/2019.csv\")\r\n",
        "display(df.limit(10))"
      ],
      "outputs": [],
      "execution_count": null,
      "metadata": {
        "jupyter": {
          "source_hidden": false,
          "outputs_hidden": false
        },
        "nteract": {
          "transient": {
            "deleting": false
          }
        },
        "microsoft": {
          "language": "scala"
        },
        "collapsed": false
      }
    },
    {
      "cell_type": "code",
      "source": [
        " from pyspark.sql.types import *\r\n",
        " from pyspark.sql.functions import *\r\n",
        "\r\n",
        " orderSchema = StructType([\r\n",
        "     StructField(\"SalesOrderNumber\", StringType()),\r\n",
        "     StructField(\"SalesOrderLineNumber\", IntegerType()),\r\n",
        "     StructField(\"OrderDate\", DateType()),\r\n",
        "     StructField(\"CustomerName\", StringType()),\r\n",
        "     StructField(\"Email\", StringType()),\r\n",
        "     StructField(\"Item\", StringType()),\r\n",
        "     StructField(\"Quantity\", IntegerType()),\r\n",
        "     StructField(\"UnitPrice\", FloatType()),\r\n",
        "     StructField(\"Tax\", FloatType())\r\n",
        "     ])\r\n",
        "\r\n",
        " df = spark.read.load('abfss://adworks-data@dssdemomtbanklake.dfs.core.windows.net/*.csv', format='csv', schema=orderSchema)\r\n",
        " display(df.limit(100))"
      ],
      "outputs": [],
      "execution_count": null,
      "metadata": {
        "jupyter": {
          "source_hidden": false,
          "outputs_hidden": false
        },
        "nteract": {
          "transient": {
            "deleting": false
          }
        },
        "microsoft": {},
        "collapsed": false
      }
    },
    {
      "cell_type": "code",
      "source": [
        " df.printSchema()"
      ],
      "outputs": [],
      "execution_count": null,
      "metadata": {
        "jupyter": {
          "source_hidden": false,
          "outputs_hidden": false
        },
        "nteract": {
          "transient": {
            "deleting": false
          }
        }
      }
    },
    {
      "cell_type": "code",
      "source": [
        " customers = df['CustomerName', 'Email']\r\n",
        " print(customers.count())\r\n",
        " print(customers.distinct().count())\r\n",
        " display(customers.distinct())"
      ],
      "outputs": [],
      "execution_count": null,
      "metadata": {
        "jupyter": {
          "source_hidden": false,
          "outputs_hidden": false
        },
        "nteract": {
          "transient": {
            "deleting": false
          }
        },
        "collapsed": false
      }
    },
    {
      "cell_type": "code",
      "source": [
        " customers = df.select(\"CustomerName\", \"Email\").where(df['Item']=='Road-250 Red, 52')\r\n",
        " print(customers.count())\r\n",
        " print(customers.distinct().count())\r\n",
        " display(customers.distinct())"
      ],
      "outputs": [],
      "execution_count": null,
      "metadata": {
        "jupyter": {
          "source_hidden": false,
          "outputs_hidden": false
        },
        "nteract": {
          "transient": {
            "deleting": false
          }
        },
        "collapsed": false
      }
    },
    {
      "cell_type": "code",
      "source": [
        " productSales = df.select(\"Item\", \"Quantity\").groupBy(\"Item\").sum()\r\n",
        " display(productSales)"
      ],
      "outputs": [],
      "execution_count": null,
      "metadata": {
        "jupyter": {
          "source_hidden": false,
          "outputs_hidden": false
        },
        "nteract": {
          "transient": {
            "deleting": false
          }
        },
        "collapsed": false
      }
    },
    {
      "cell_type": "code",
      "source": [
        " yearlySales = df.select(year(\"OrderDate\").alias(\"Year\")).groupBy(\"Year\").count().orderBy(\"Year\")\r\n",
        " display(yearlySales)"
      ],
      "outputs": [],
      "execution_count": null,
      "metadata": {
        "jupyter": {
          "source_hidden": false,
          "outputs_hidden": false
        },
        "nteract": {
          "transient": {
            "deleting": false
          }
        },
        "collapsed": false
      }
    },
    {
      "cell_type": "markdown",
      "source": [
        "## **Query Data using SPARK SQL**"
      ],
      "metadata": {
        "nteract": {
          "transient": {
            "deleting": false
          }
        }
      }
    },
    {
      "cell_type": "code",
      "source": [
        " df.createOrReplaceTempView(\"salesorders\")\r\n",
        "\r\n",
        " spark_df = spark.sql(\"SELECT * FROM salesorders\")\r\n",
        " display(spark_df)"
      ],
      "outputs": [],
      "execution_count": null,
      "metadata": {
        "jupyter": {
          "source_hidden": false,
          "outputs_hidden": false
        },
        "nteract": {
          "transient": {
            "deleting": false
          }
        },
        "collapsed": false
      }
    },
    {
      "cell_type": "code",
      "source": [
        " %%sql\r\n",
        " SELECT YEAR(OrderDate) AS OrderYear,\r\n",
        "        SUM((UnitPrice * Quantity) + Tax) AS GrossRevenue\r\n",
        " FROM salesorders\r\n",
        " GROUP BY YEAR(OrderDate)\r\n",
        " ORDER BY OrderYear;"
      ],
      "outputs": [],
      "execution_count": null,
      "metadata": {
        "jupyter": {
          "source_hidden": false,
          "outputs_hidden": false
        },
        "nteract": {
          "transient": {
            "deleting": false
          }
        },
        "microsoft": {
          "language": "sparksql"
        },
        "collapsed": false
      }
    },
    {
      "cell_type": "markdown",
      "source": [
        "#### **Visualize data with Spark**"
      ],
      "metadata": {
        "nteract": {
          "transient": {
            "deleting": false
          }
        }
      }
    },
    {
      "cell_type": "code",
      "source": [
        " %%sql\r\n",
        " SELECT * FROM salesorders"
      ],
      "outputs": [],
      "execution_count": null,
      "metadata": {
        "jupyter": {
          "source_hidden": false,
          "outputs_hidden": false
        },
        "nteract": {
          "transient": {
            "deleting": false
          }
        },
        "microsoft": {
          "language": "sparksql"
        },
        "collapsed": false
      }
    },
    {
      "cell_type": "code",
      "source": [
        " sqlQuery = \"SELECT CAST(YEAR(OrderDate) AS CHAR(4)) AS OrderYear, \\\r\n",
        "                 SUM((UnitPrice * Quantity) + Tax) AS GrossRevenue \\\r\n",
        "             FROM salesorders WHERE OrderDate is Not NULL\\\r\n",
        "             GROUP BY CAST(YEAR(OrderDate) AS CHAR(4)) \\\r\n",
        "             ORDER BY OrderYear\"\r\n",
        " df_spark = spark.sql(sqlQuery)\r\n",
        " df_spark.show()"
      ],
      "outputs": [],
      "execution_count": null,
      "metadata": {
        "jupyter": {
          "source_hidden": false,
          "outputs_hidden": false
        },
        "nteract": {
          "transient": {
            "deleting": false
          }
        }
      }
    },
    {
      "cell_type": "code",
      "source": [
        " from matplotlib import pyplot as plt\r\n",
        "\r\n",
        " # matplotlib requires a Pandas dataframe, not a Spark one\r\n",
        " df_sales = df_spark.toPandas()\r\n",
        "\r\n",
        " # Create a bar plot of revenue by year\r\n",
        " plt.bar(x=df_sales['OrderYear'], height=df_sales['GrossRevenue'])\r\n",
        "\r\n",
        " # Display the plot\r\n",
        " plt.show()"
      ],
      "outputs": [],
      "execution_count": null,
      "metadata": {
        "jupyter": {
          "source_hidden": false,
          "outputs_hidden": false
        },
        "nteract": {
          "transient": {
            "deleting": false
          }
        }
      }
    },
    {
      "cell_type": "code",
      "source": [
        " # Clear the plot area\r\n",
        " plt.clf()\r\n",
        "\r\n",
        " # Create a bar plot of revenue by year\r\n",
        " plt.bar(x=df_sales['OrderYear'], height=df_sales['GrossRevenue'], color='orange')\r\n",
        "\r\n",
        " # Customize the chart\r\n",
        " plt.title('Revenue by Year')\r\n",
        " plt.xlabel('Year')\r\n",
        " plt.ylabel('Revenue')\r\n",
        " plt.grid(color='#95a5a6', linestyle='--', linewidth=2, axis='y', alpha=0.7)\r\n",
        " plt.xticks(rotation=45)\r\n",
        "\r\n",
        " # Show the figure\r\n",
        " plt.show()"
      ],
      "outputs": [],
      "execution_count": null,
      "metadata": {
        "jupyter": {
          "source_hidden": false,
          "outputs_hidden": false
        },
        "nteract": {
          "transient": {
            "deleting": false
          }
        }
      }
    },
    {
      "cell_type": "code",
      "source": [
        " # Clear the plot area\r\n",
        " plt.clf()\r\n",
        "\r\n",
        " # Create a Figure\r\n",
        " fig = plt.figure(figsize=(8,3))\r\n",
        "\r\n",
        " # Create a bar plot of revenue by year\r\n",
        " plt.bar(x=df_sales['OrderYear'], height=df_sales['GrossRevenue'], color='orange')\r\n",
        "\r\n",
        " # Customize the chart\r\n",
        " plt.title('Revenue by Year')\r\n",
        " plt.xlabel('Year')\r\n",
        " plt.ylabel('Revenue')\r\n",
        " plt.grid(color='#95a5a6', linestyle='--', linewidth=2, axis='y', alpha=0.7)\r\n",
        " plt.xticks(rotation=45)\r\n",
        "\r\n",
        " # Show the figure\r\n",
        " plt.show()"
      ],
      "outputs": [],
      "execution_count": null,
      "metadata": {
        "jupyter": {
          "source_hidden": false,
          "outputs_hidden": false
        },
        "nteract": {
          "transient": {
            "deleting": false
          }
        }
      }
    },
    {
      "cell_type": "code",
      "source": [
        " # Clear the plot area\r\n",
        " plt.clf()\r\n",
        "\r\n",
        " # Create a figure for 2 subplots (1 row, 2 columns)\r\n",
        " fig, ax = plt.subplots(1, 2, figsize = (10,4))\r\n",
        "\r\n",
        " # Create a bar plot of revenue by year on the first axis\r\n",
        " ax[0].bar(x=df_sales['OrderYear'], height=df_sales['GrossRevenue'], color='orange')\r\n",
        " ax[0].set_title('Revenue by Year')\r\n",
        "\r\n",
        " # Create a pie chart of yearly order counts on the second axis\r\n",
        " yearly_counts = df_sales['OrderYear'].value_counts()\r\n",
        " ax[1].pie(yearly_counts)\r\n",
        " ax[1].set_title('Orders per Year')\r\n",
        " ax[1].legend(yearly_counts.keys().tolist())\r\n",
        "\r\n",
        " # Add a title to the Figure\r\n",
        " fig.suptitle('Sales Data')\r\n",
        "\r\n",
        " # Show the figure\r\n",
        " plt.show()"
      ],
      "outputs": [],
      "execution_count": null,
      "metadata": {
        "jupyter": {
          "source_hidden": false,
          "outputs_hidden": false
        },
        "nteract": {
          "transient": {
            "deleting": false
          }
        }
      }
    },
    {
      "cell_type": "code",
      "source": [
        " import seaborn as sns\r\n",
        "\r\n",
        " # Clear the plot area\r\n",
        " plt.clf()\r\n",
        "\r\n",
        " # Create a bar chart\r\n",
        " ax = sns.barplot(x=\"OrderYear\", y=\"GrossRevenue\", data=df_sales)\r\n",
        " plt.show()"
      ],
      "outputs": [],
      "execution_count": null,
      "metadata": {
        "jupyter": {
          "source_hidden": false,
          "outputs_hidden": false
        },
        "nteract": {
          "transient": {
            "deleting": false
          }
        }
      }
    },
    {
      "cell_type": "code",
      "source": [
        " # Clear the plot area\r\n",
        " plt.clf()\r\n",
        "\r\n",
        " # Set the visual theme for seaborn\r\n",
        " sns.set_theme(style=\"whitegrid\")\r\n",
        "\r\n",
        " # Create a bar chart\r\n",
        " ax = sns.barplot(x=\"OrderYear\", y=\"GrossRevenue\", data=df_sales)\r\n",
        " plt.show()"
      ],
      "outputs": [],
      "execution_count": null,
      "metadata": {
        "jupyter": {
          "source_hidden": false,
          "outputs_hidden": false
        },
        "nteract": {
          "transient": {
            "deleting": false
          }
        }
      }
    },
    {
      "cell_type": "code",
      "source": [
        " # Clear the plot area\r\n",
        " plt.clf()\r\n",
        "\r\n",
        " # Create a bar chart\r\n",
        " ax = sns.lineplot(x=\"OrderYear\", y=\"GrossRevenue\", data=df_sales)\r\n",
        " plt.show()"
      ],
      "outputs": [],
      "execution_count": null,
      "metadata": {
        "jupyter": {
          "source_hidden": false,
          "outputs_hidden": false
        },
        "nteract": {
          "transient": {
            "deleting": false
          }
        }
      }
    }
  ],
  "metadata": {
    "kernelspec": {
      "name": "synapse_pyspark",
      "display_name": "Synapse PySpark"
    },
    "language_info": {
      "name": "python"
    },
    "description": null,
    "save_output": true,
    "synapse_widget": {
      "version": "0.1",
      "state": {}
    }
  },
  "nbformat": 4,
  "nbformat_minor": 2
}