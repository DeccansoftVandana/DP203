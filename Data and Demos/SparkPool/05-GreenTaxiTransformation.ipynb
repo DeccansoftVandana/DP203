{
  "cells": [
    {
      "cell_type": "code",
      "source": [
        "%%pyspark\n",
        "blob_account_name = \"dssdemomtbanksa\"\n",
        "blob_container_name = \"taxidata\"\n",
        "from pyspark.sql import SparkSession\n",
        "\n",
        "sc = SparkSession.builder.getOrCreate()\n",
        "token_library = sc._jvm.com.microsoft.azure.synapse.tokenlibrary.TokenLibrary\n",
        "blob_sas_token = token_library.getConnectionString(\"ConnBlob\")\n",
        "\n",
        "spark.conf.set(\n",
        "    'fs.azure.sas.%s.%s.blob.core.windows.net' % (blob_container_name, blob_account_name),\n",
        "    blob_sas_token)\n",
        "df = spark.read.load('wasbs://taxidata@dssdemomtbanksa.blob.core.windows.net/GreenTaxis_201911.csv', format='csv'\n",
        "## If header exists uncomment line below\n",
        ", header=True\n",
        ",inferSchema=True\n",
        ")\n",
        "display(df.limit(10))"
      ],
      "outputs": [],
      "execution_count": null,
      "metadata": {
        "microsoft": {
          "language": "python"
        },
        "jupyter": {
          "outputs_hidden": false
        },
        "collapsed": false
      }
    },
    {
      "cell_type": "code",
      "source": [
        "df.printSchema"
      ],
      "outputs": [],
      "execution_count": null,
      "metadata": {
        "jupyter": {
          "source_hidden": false,
          "outputs_hidden": false
        },
        "nteract": {
          "transient": {
            "deleting": false
          }
        }
      }
    },
    {
      "cell_type": "code",
      "source": [
        "df.columns"
      ],
      "outputs": [],
      "execution_count": null,
      "metadata": {
        "jupyter": {
          "source_hidden": false,
          "outputs_hidden": false
        },
        "nteract": {
          "transient": {
            "deleting": false
          }
        }
      }
    },
    {
      "cell_type": "code",
      "source": [
        "display(df.describe())"
      ],
      "outputs": [],
      "execution_count": null,
      "metadata": {
        "jupyter": {
          "source_hidden": false,
          "outputs_hidden": false
        },
        "nteract": {
          "transient": {
            "deleting": false
          }
        }
      }
    },
    {
      "cell_type": "code",
      "source": [
        "display(df.describe(\"trip_distance\",\"passenger_count\"))"
      ],
      "outputs": [],
      "execution_count": null,
      "metadata": {
        "jupyter": {
          "source_hidden": false,
          "outputs_hidden": false
        },
        "nteract": {
          "transient": {
            "deleting": false
          }
        },
        "collapsed": false
      }
    },
    {
      "cell_type": "code",
      "source": [
        "display(df,summary=True)"
      ],
      "outputs": [],
      "execution_count": null,
      "metadata": {
        "jupyter": {
          "source_hidden": false,
          "outputs_hidden": false
        },
        "nteract": {
          "transient": {
            "deleting": false
          }
        },
        "collapsed": false
      }
    },
    {
      "cell_type": "code",
      "source": [
        "print (\"Before filter = \", df.count())\r\n",
        "df=df.filter(\"trip_distance >0.0\")\r\n",
        "print (\"After filter = \",  df.count())                   \r\n"
      ],
      "outputs": [
        {
          "output_type": "display_data",
          "data": {
            "application/vnd.livy.statement-meta+json": {
              "spark_pool": "Sparkpool",
              "session_id": 7,
              "statement_id": 2,
              "state": "finished",
              "livy_statement_state": "available",
              "queued_time": "2021-12-28T11:28:43.593786Z",
              "session_start_time": null,
              "execution_start_time": "2021-12-28T11:28:44.3695475Z",
              "execution_finish_time": "2021-12-28T11:28:53.235441Z"
            },
            "text/plain": "StatementMeta(Sparkpool, 7, 2, Finished, Available)"
          },
          "metadata": {}
        },
        {
          "output_type": "stream",
          "name": "stdout",
          "text": [
            "Before filter =  449500\nAfter filter =  421018"
          ]
        }
      ],
      "execution_count": 3,
      "metadata": {
        "jupyter": {
          "source_hidden": false,
          "outputs_hidden": false
        },
        "nteract": {
          "transient": {
            "deleting": false
          }
        }
      }
    },
    {
      "cell_type": "code",
      "source": [
        "print (\"Before filter = \", df.count())\r\n",
        "df=df.where(\"passanger_count>0.0\" and \"passenger_count<=5\")\r\n",
        "print (\"After filter = \",  df.count())     "
      ],
      "outputs": [
        {
          "output_type": "display_data",
          "data": {
            "application/vnd.livy.statement-meta+json": {
              "spark_pool": "Sparkpool",
              "session_id": 7,
              "statement_id": 3,
              "state": "finished",
              "livy_statement_state": "available",
              "queued_time": "2021-12-28T11:28:46.06514Z",
              "session_start_time": null,
              "execution_start_time": "2021-12-28T11:28:53.3372406Z",
              "execution_finish_time": "2021-12-28T11:28:58.0590025Z"
            },
            "text/plain": "StatementMeta(Sparkpool, 7, 3, Finished, Available)"
          },
          "metadata": {}
        },
        {
          "output_type": "stream",
          "name": "stdout",
          "text": [
            "Before filter =  421018\nAfter filter =  344149"
          ]
        }
      ],
      "execution_count": 4,
      "metadata": {
        "jupyter": {
          "source_hidden": false,
          "outputs_hidden": false
        },
        "nteract": {
          "transient": {
            "deleting": false
          }
        }
      }
    },
    {
      "cell_type": "code",
      "source": [
        "df=df.filter(\r\n",
        "    (df.lpep_pickup_datetime >='2019-11-01' ) & (df.lpep_pickup_datetime <'2019-12-01'))"
      ],
      "outputs": [
        {
          "output_type": "display_data",
          "data": {
            "application/vnd.livy.statement-meta+json": {
              "spark_pool": "Sparkpool",
              "session_id": 7,
              "statement_id": 4,
              "state": "finished",
              "livy_statement_state": "available",
              "queued_time": "2021-12-28T11:28:53.9708532Z",
              "session_start_time": null,
              "execution_start_time": "2021-12-28T11:28:58.1604072Z",
              "execution_finish_time": "2021-12-28T11:28:58.3076154Z"
            },
            "text/plain": "StatementMeta(Sparkpool, 7, 4, Finished, Available)"
          },
          "metadata": {}
        }
      ],
      "execution_count": 5,
      "metadata": {
        "jupyter": {
          "source_hidden": false,
          "outputs_hidden": false
        },
        "nteract": {
          "transient": {
            "deleting": false
          }
        }
      }
    },
    {
      "cell_type": "code",
      "source": [
        "display(df.limit(100))"
      ],
      "outputs": [],
      "execution_count": null,
      "metadata": {
        "jupyter": {
          "source_hidden": false,
          "outputs_hidden": false
        },
        "nteract": {
          "transient": {
            "deleting": false
          }
        },
        "collapsed": false
      }
    },
    {
      "cell_type": "code",
      "source": [
        "df.columns"
      ],
      "outputs": [],
      "execution_count": null,
      "metadata": {
        "jupyter": {
          "source_hidden": false,
          "outputs_hidden": false
        },
        "nteract": {
          "transient": {
            "deleting": false
          }
        }
      }
    },
    {
      "cell_type": "code",
      "source": [
        "df=df.select(\r\n",
        "                \"lpep_pickup_datetime\",\r\n",
        "                \"lpep_dropoff_datetime\", \r\n",
        "                \"RatecodeID\",\r\n",
        " \"PULocationID\",\r\n",
        " \"DOLocationID\",\r\n",
        " \"passenger_count\",\r\n",
        " \"trip_distance\",\r\n",
        " \"total_amount\", \r\n",
        " \"payment_type\" \r\n",
        ")"
      ],
      "outputs": [
        {
          "output_type": "display_data",
          "data": {
            "application/vnd.livy.statement-meta+json": {
              "spark_pool": "Sparkpool",
              "session_id": 7,
              "statement_id": 5,
              "state": "finished",
              "livy_statement_state": "available",
              "queued_time": "2021-12-28T11:29:00.10556Z",
              "session_start_time": null,
              "execution_start_time": "2021-12-28T11:29:00.2148112Z",
              "execution_finish_time": "2021-12-28T11:29:00.3806489Z"
            },
            "text/plain": "StatementMeta(Sparkpool, 7, 5, Finished, Available)"
          },
          "metadata": {}
        }
      ],
      "execution_count": 6,
      "metadata": {
        "jupyter": {
          "source_hidden": false,
          "outputs_hidden": false
        },
        "nteract": {
          "transient": {
            "deleting": false
          }
        }
      }
    },
    {
      "cell_type": "code",
      "source": [
        "df=(df\r\n",
        "    .withColumnRenamed(\"lpep_pickup_datetime\",\"PickupTime\")\r\n",
        "    .withColumnRenamed(\"lpep_dropoff_datetime\",\"DropTime\")\r\n",
        "    .withColumnRenamed( \"PULocationID\",\"PickupLocationId\")\r\n",
        "    .withColumnRenamed(\"DOLocationID\",\"DropLocationId\")\r\n",
        "    .withColumnRenamed(\"passenger_count\",\"PassengerCount\")\r\n",
        "    .withColumnRenamed(\"trip_distance\",\"TripDistance\")\r\n",
        "    .withColumnRenamed(\"total_amount\",\"TotalAmount\")\r\n",
        "    .withColumnRenamed(\"payment_type\",\"PaymentType\")\r\n",
        ")"
      ],
      "outputs": [
        {
          "output_type": "display_data",
          "data": {
            "application/vnd.livy.statement-meta+json": {
              "spark_pool": "Sparkpool",
              "session_id": 7,
              "statement_id": 6,
              "state": "finished",
              "livy_statement_state": "available",
              "queued_time": "2021-12-28T11:29:04.8340277Z",
              "session_start_time": null,
              "execution_start_time": "2021-12-28T11:29:04.9355269Z",
              "execution_finish_time": "2021-12-28T11:29:05.0895211Z"
            },
            "text/plain": "StatementMeta(Sparkpool, 7, 6, Finished, Available)"
          },
          "metadata": {}
        }
      ],
      "execution_count": 7,
      "metadata": {
        "jupyter": {
          "source_hidden": false,
          "outputs_hidden": false
        },
        "nteract": {
          "transient": {
            "deleting": false
          }
        }
      }
    },
    {
      "cell_type": "code",
      "source": [
        "from pyspark.sql.functions import *\r\n",
        "df=(df\r\n",
        "     .withColumn(\"TripYear\",year(\"PickupTime\"))\r\n",
        "     .withColumn(\"TripMonth\", month(\"PickupTime\"))\r\n",
        "     .withColumn(\"TripDay\", dayofmonth(\"PickupTime\")))\r\n"
      ],
      "outputs": [
        {
          "output_type": "display_data",
          "data": {
            "application/vnd.livy.statement-meta+json": {
              "spark_pool": "Sparkpool",
              "session_id": 7,
              "statement_id": 7,
              "state": "finished",
              "livy_statement_state": "available",
              "queued_time": "2021-12-28T11:29:09.7146677Z",
              "session_start_time": null,
              "execution_start_time": "2021-12-28T11:29:09.8283911Z",
              "execution_finish_time": "2021-12-28T11:29:09.9836941Z"
            },
            "text/plain": "StatementMeta(Sparkpool, 7, 7, Finished, Available)"
          },
          "metadata": {}
        }
      ],
      "execution_count": 8,
      "metadata": {
        "jupyter": {
          "source_hidden": false,
          "outputs_hidden": false
        },
        "nteract": {
          "transient": {
            "deleting": false
          }
        }
      }
    },
    {
      "cell_type": "code",
      "source": [
        "df=df.\\\r\n",
        "  withColumn(\"TripType\", \r\n",
        "    when(df.RatecodeID == 6,\"SharedTrip\")\\\r\n",
        "    .otherwise(\"SoloTrip\")  )\\\r\n",
        "    .drop(\"RatecodeID\")                             \r\n"
      ],
      "outputs": [
        {
          "output_type": "display_data",
          "data": {
            "application/vnd.livy.statement-meta+json": {
              "spark_pool": "Sparkpool",
              "session_id": 5,
              "statement_id": 9,
              "state": "finished",
              "livy_statement_state": "available",
              "queued_time": "2021-12-28T11:04:06.8967863Z",
              "session_start_time": null,
              "execution_start_time": "2021-12-28T11:04:07.0173435Z",
              "execution_finish_time": "2021-12-28T11:04:07.1687884Z"
            },
            "text/plain": "StatementMeta(Sparkpool, 5, 9, Finished, Available)"
          },
          "metadata": {}
        }
      ],
      "execution_count": 44,
      "metadata": {
        "jupyter": {
          "source_hidden": false,
          "outputs_hidden": false
        },
        "nteract": {
          "transient": {
            "deleting": false
          }
        }
      }
    },
    {
      "cell_type": "code",
      "source": [
        "df=df.withColumn(\"TripType\", \r\n",
        "    when(df.RatecodeID == 6,\"SharedTrip\")\\\r\n",
        "    .otherwise(\"SoloTrip\")  )\\\r\n",
        "    .drop(\"RatecodeID\")                             \r\n"
      ],
      "outputs": [
        {
          "output_type": "display_data",
          "data": {
            "application/vnd.livy.statement-meta+json": {
              "spark_pool": "Sparkpool",
              "session_id": 7,
              "statement_id": 8,
              "state": "finished",
              "livy_statement_state": "available",
              "queued_time": "2021-12-28T11:29:16.5489926Z",
              "session_start_time": null,
              "execution_start_time": "2021-12-28T11:29:16.6535463Z",
              "execution_finish_time": "2021-12-28T11:29:16.7992281Z"
            },
            "text/plain": "StatementMeta(Sparkpool, 7, 8, Finished, Available)"
          },
          "metadata": {}
        }
      ],
      "execution_count": 9,
      "metadata": {
        "jupyter": {
          "source_hidden": false,
          "outputs_hidden": false
        },
        "nteract": {
          "transient": {
            "deleting": false
          }
        }
      }
    },
    {
      "cell_type": "code",
      "source": [
        "%%sql\r\n",
        "Create Database TaxiDatabase"
      ],
      "outputs": [
        {
          "output_type": "display_data",
          "data": {
            "application/vnd.livy.statement-meta+json": {
              "spark_pool": "Sparkpool",
              "session_id": 5,
              "statement_id": 11,
              "state": "finished",
              "livy_statement_state": "available",
              "queued_time": "2021-12-28T11:08:26.0200229Z",
              "session_start_time": null,
              "execution_start_time": "2021-12-28T11:08:26.163637Z",
              "execution_finish_time": "2021-12-28T11:08:41.1047116Z"
            },
            "text/plain": "StatementMeta(Sparkpool, 5, 11, Finished, Available)"
          },
          "metadata": {}
        },
        {
          "output_type": "execute_result",
          "execution_count": 46,
          "data": {
            "application/vnd.synapse.sparksql-result+json": {
              "schema": {
                "type": "struct",
                "fields": []
              },
              "data": []
            },
            "text/plain": "<Spark SQL result set with 0 rows and 0 fields>"
          },
          "metadata": {}
        }
      ],
      "execution_count": 46,
      "metadata": {
        "jupyter": {
          "source_hidden": false,
          "outputs_hidden": false
        },
        "nteract": {
          "transient": {
            "deleting": false
          }
        },
        "microsoft": {
          "language": "sparksql"
        },
        "collapsed": false
      }
    },
    {
      "cell_type": "markdown",
      "source": [
        "## Write Transformed Data in Data Lake"
      ],
      "metadata": {
        "nteract": {
          "transient": {
            "deleting": false
          }
        }
      }
    },
    {
      "cell_type": "code",
      "source": [
        "(df\r\n",
        "    .write\r\n",
        "    .partitionBy(\"TripYear\",\"TripMonth\",\"TripDay\")\r\n",
        "    .mode(\"overwrite\")\r\n",
        "    .parquet(\"abfss://taxidata@dssdatalake.dfs.core.windows.net/Facts/GreenTaxidata.parquet\")\r\n",
        ")"
      ],
      "outputs": [
        {
          "output_type": "display_data",
          "data": {
            "application/vnd.livy.statement-meta+json": {
              "spark_pool": "Sparkpool",
              "session_id": 5,
              "statement_id": 12,
              "state": "finished",
              "livy_statement_state": "available",
              "queued_time": "2021-12-28T11:11:46.8247279Z",
              "session_start_time": null,
              "execution_start_time": "2021-12-28T11:11:46.9804064Z",
              "execution_finish_time": "2021-12-28T11:12:01.6084985Z"
            },
            "text/plain": "StatementMeta(Sparkpool, 5, 12, Finished, Available)"
          },
          "metadata": {}
        }
      ],
      "execution_count": 47,
      "metadata": {
        "jupyter": {
          "source_hidden": false,
          "outputs_hidden": false
        },
        "nteract": {
          "transient": {
            "deleting": false
          }
        }
      }
    },
    {
      "cell_type": "markdown",
      "source": [
        "## Write Transformed Data as managed Table"
      ],
      "metadata": {
        "nteract": {
          "transient": {
            "deleting": false
          }
        }
      }
    },
    {
      "cell_type": "code",
      "source": [
        "(df\r\n",
        "    .write\r\n",
        "    .partitionBy(\"TripYear\",\"TripMonth\",\"TripDay\")\r\n",
        "    .mode(\"overwrite\")\r\n",
        "    .saveAsTable(\"TaxiDatabase.GreenTaxiManaged\")\r\n",
        ")"
      ],
      "outputs": [
        {
          "output_type": "display_data",
          "data": {
            "application/vnd.livy.statement-meta+json": {
              "spark_pool": "Sparkpool",
              "session_id": 7,
              "statement_id": 9,
              "state": "finished",
              "livy_statement_state": "available",
              "queued_time": "2021-12-28T11:29:34.4570501Z",
              "session_start_time": null,
              "execution_start_time": "2021-12-28T11:29:34.5658243Z",
              "execution_finish_time": "2021-12-28T11:30:09.3701019Z"
            },
            "text/plain": "StatementMeta(Sparkpool, 7, 9, Finished, Available)"
          },
          "metadata": {}
        }
      ],
      "execution_count": 10,
      "metadata": {
        "jupyter": {
          "source_hidden": false,
          "outputs_hidden": false
        },
        "nteract": {
          "transient": {
            "deleting": false
          }
        }
      }
    },
    {
      "cell_type": "markdown",
      "source": [
        "## Write Transformed Data as unmanaged Table"
      ],
      "metadata": {
        "nteract": {
          "transient": {
            "deleting": false
          }
        }
      }
    },
    {
      "cell_type": "code",
      "source": [
        "(df\r\n",
        "    .write\r\n",
        "    .partitionBy(\"TripYear\",\"TripMonth\",\"TripDay\")\r\n",
        "    .mode(\"overwrite\")\r\n",
        "    .option(\"path\",\"abfss://taxidata@dssdatalake.dfs.core.windows.net/Facts/GreenTaxidata1.parquet\")\r\n",
        "    .saveAsTable(\"TaxiDatabase.GreenTaxiUnManaged\")\r\n",
        ")"
      ],
      "outputs": [
        {
          "output_type": "display_data",
          "data": {
            "application/vnd.livy.statement-meta+json": {
              "spark_pool": "Sparkpool",
              "session_id": 7,
              "statement_id": 10,
              "state": "finished",
              "livy_statement_state": "available",
              "queued_time": "2021-12-28T11:30:49.1382889Z",
              "session_start_time": null,
              "execution_start_time": "2021-12-28T11:30:49.2438564Z",
              "execution_finish_time": "2021-12-28T11:31:05.8296222Z"
            },
            "text/plain": "StatementMeta(Sparkpool, 7, 10, Finished, Available)"
          },
          "metadata": {}
        }
      ],
      "execution_count": 11,
      "metadata": {
        "jupyter": {
          "source_hidden": false,
          "outputs_hidden": false
        },
        "nteract": {
          "transient": {
            "deleting": false
          }
        }
      }
    }
  ],
  "metadata": {
    "kernelspec": {
      "name": "synapse_pyspark",
      "language": "Python",
      "display_name": "Synapse PySpark"
    },
    "language_info": {
      "name": "python"
    },
    "kernel_info": {
      "name": "synapse_pyspark"
    },
    "description": null,
    "save_output": true,
    "synapse_widget": {
      "version": "0.1",
      "state": {}
    }
  },
  "nbformat": 4,
  "nbformat_minor": 2
}